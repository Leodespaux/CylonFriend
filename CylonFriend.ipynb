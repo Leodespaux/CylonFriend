{
 "cells": [
  {
   "cell_type": "code",
   "execution_count": 2,
   "metadata": {},
   "outputs": [
    {
     "name": "stdout",
     "output_type": "stream",
     "text": [
      "Whats your email: rat\n",
      "What's the title: test8\n",
      "How many 8-well rows of Cells total: 20\n",
      "How many 8-well rows of PCR total: 30\n",
      "How many rows of cells in this set, or press enter twice if done: 10\n",
      "Which PCR mixes for this set: 1,2\n",
      "How many rows of cells in this set, or press enter twice if done: 10\n",
      "Which PCR mixes for this set: 1\n"
     ]
    }
   ],
   "source": [
    "'''\n",
    "\n",
    "CylonFriend\n",
    "by Leo d'Espaux <leodespaux@gmail.com>\n",
    "A tool to generate instructions for Biomek and other robots from user input. \n",
    "\n",
    "v1.0 8.7.17\n",
    "*Make instructions list for colony PCR\n",
    "*Current version is for one colony PCR per sample\n",
    "*Samples come in rows of 8\n",
    "\n",
    "'''\n",
    "\n",
    "\n",
    "\n",
    "\n",
    "import csv\n",
    "import numpy as np\n",
    "\n",
    "\n",
    "#global variables\n",
    "MMsrcPlate = \"MM_PolPri\"\n",
    "MMvol = 20\n",
    "CellsVol = 5\n",
    "\n",
    "\n",
    "def addPCRrow(MMsrcWell, PCR_row, cells_row):\n",
    "        #Set which plate we are using for the PCR and cells\n",
    "        PCR_plate = \"PCR\" + str(PCR_row//12 + 1)\n",
    "        PCR_row_in_plate = PCR_row%12\n",
    "        cells_plate = \"Cells\" + str(cells_row//12 + 1)\n",
    "        cells_row_in_plate = cells_row%12\n",
    "    \n",
    "        if PCR_row == 1:\n",
    "            with open(title + '.csv', 'w', newline = '') as csvfile:\n",
    "                spamwriter = csv.writer(csvfile, delimiter=',',\n",
    "                                        quotechar='|', quoting=csv.QUOTE_MINIMAL)\n",
    "                spamwriter.writerow([\"Variable_name\", \"Value\", \"MM_PolPri_Src\", \"MM_PolPri_srcWell\", \"MM_PolPri_Dest\", \"MM_PolPri_destWell\", \"MM_PolPri_TFFvol\", \"Cells_Src\", \"Cells_srcWell\", \"Cells_Dest\", \"Cells_destWell\", \"Cells_TFFvol\"])\n",
    "                spamwriter.writerow([\"Email_to\", email, MMsrcPlate, MMsrcWell, PCR_plate, PCR_row_in_plate, MMvol, cells_plate, cells_row_in_plate, PCR_plate, PCR_row_in_plate, CellsVol])\n",
    "                spamwriter.writerow([\"ExpID\", title, MMsrcPlate, MMsrcWell, PCR_plate, PCR_row_in_plate+12, MMvol, cells_plate, cells_row_in_plate+12, PCR_plate, PCR_row_in_plate+12, CellsVol])\n",
    "                spamwriter.writerow([\"Samples\", n_PCR_rows, MMsrcPlate, MMsrcWell, PCR_plate, PCR_row_in_plate+24, MMvol, cells_plate, cells_row_in_plate+24, PCR_plate, PCR_row_in_plate+24, CellsVol])\n",
    "                spamwriter.writerow([\"Cells_n\", n_cells_plates, MMsrcPlate, MMsrcWell, PCR_plate, PCR_row_in_plate+36, MMvol, cells_plate, cells_row_in_plate+36, PCR_plate, PCR_row_in_plate+36, CellsVol])\n",
    "                spamwriter.writerow([\"PCR_n\", n_PCR_plates, MMsrcPlate, MMsrcWell, PCR_plate, PCR_row_in_plate+48, MMvol, cells_plate, cells_row_in_plate+48, PCR_plate, PCR_row_in_plate+48, CellsVol])\n",
    "                spamwriter.writerow([\" \",\" \", MMsrcPlate, MMsrcWell, PCR_plate, PCR_row_in_plate+60, MMvol, cells_plate, cells_row_in_plate+60, PCR_plate, PCR_row_in_plate+60, CellsVol])\n",
    "                spamwriter.writerow([\" \",\" \", MMsrcPlate, MMsrcWell, PCR_plate, PCR_row_in_plate+72, MMvol, cells_plate, cells_row_in_plate+72, PCR_plate, PCR_row_in_plate+72, CellsVol])\n",
    "                spamwriter.writerow([\" \",\" \", MMsrcPlate, MMsrcWell, PCR_plate, PCR_row_in_plate+84, MMvol, cells_plate, cells_row_in_plate+84, PCR_plate, PCR_row_in_plate+84, CellsVol])\n",
    "        else:\n",
    "            with open(title+'.csv', 'a', newline='') as csvfile:\n",
    "                spamwriter = csv.writer(csvfile, delimiter=',',\n",
    "                                        quotechar='|', quoting=csv.QUOTE_MINIMAL)\n",
    "                for i in range(8):\n",
    "                    spamwriter.writerow([\" \",\" \", MMsrcPlate, MMsrcWell, PCR_plate, PCR_row_in_plate+i*12, MMvol, cells_plate, cells_row_in_plate+i*12, PCR_plate, PCR_row_in_plate+i*12, CellsVol])\n",
    "\n",
    "\n",
    "#get user input\n",
    "email = input(\"Whats your email: \")\n",
    "title = input(\"What's the title: \")\n",
    "n_cells_rows = int(input(\"How many 8-well rows of Cells total: \"))\n",
    "n_cells_plates = np.ceil(n_cells_rows/12)\n",
    "n_PCR_rows = int(input(\"How many 8-well rows of PCR total: \"))\n",
    "n_PCR_plates = np.ceil(n_PCR_rows/12)\n",
    "\n",
    "\n",
    "#initiate variables\n",
    "cells_row = 1\n",
    "PCR_row = 1\n",
    "\n",
    "\n",
    "while cells_row <= n_cells_rows:\n",
    "    n_rows_in_set = int(input(\"How many rows of cells in this set, or press enter twice if done: \")) \n",
    "    row_in_set = 1    \n",
    "    if n_rows_in_set == '':\n",
    "        print(\"\\nDone. Thank you!\")\n",
    "        break\n",
    "    MMsrcWells = input(\"Which PCR mixes for this set: \").replace(\" \", \"\").split(\",\")\n",
    "    while row_in_set <= n_rows_in_set:\n",
    "        for MMsrcWell in MMsrcWells:\n",
    "            addPCRrow(MMsrcWell, PCR_row, cells_row)\n",
    "            PCR_row += 1\n",
    "        cells_row += 1        \n",
    "        row_in_set += 1\n",
    "\n"
   ]
  },
  {
   "cell_type": "code",
   "execution_count": null,
   "metadata": {},
   "outputs": [],
   "source": []
  },
  {
   "cell_type": "code",
   "execution_count": null,
   "metadata": {},
   "outputs": [],
   "source": []
  },
  {
   "cell_type": "code",
   "execution_count": null,
   "metadata": {
    "collapsed": true
   },
   "outputs": [],
   "source": []
  }
 ],
 "metadata": {
  "kernelspec": {
   "display_name": "Python 3",
   "language": "python",
   "name": "python3"
  },
  "language_info": {
   "codemirror_mode": {
    "name": "ipython",
    "version": 3
   },
   "file_extension": ".py",
   "mimetype": "text/x-python",
   "name": "python",
   "nbconvert_exporter": "python",
   "pygments_lexer": "ipython3",
   "version": "3.6.1"
  }
 },
 "nbformat": 4,
 "nbformat_minor": 1
}
